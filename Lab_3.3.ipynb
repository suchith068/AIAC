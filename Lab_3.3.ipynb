{
  "nbformat": 4,
  "nbformat_minor": 0,
  "metadata": {
    "colab": {
      "provenance": [],
      "authorship_tag": "ABX9TyNYvEARveULNRRXj8dx3/Am",
      "include_colab_link": true
    },
    "kernelspec": {
      "name": "python3",
      "display_name": "Python 3"
    },
    "language_info": {
      "name": "python"
    }
  },
  "cells": [
    {
      "cell_type": "markdown",
      "metadata": {
        "id": "view-in-github",
        "colab_type": "text"
      },
      "source": [
        "<a href=\"https://colab.research.google.com/github/suchith068/AIAC/blob/main/Lab_3.3.ipynb\" target=\"_parent\"><img src=\"https://colab.research.google.com/assets/colab-badge.svg\" alt=\"Open In Colab\"/></a>"
      ]
    },
    {
      "cell_type": "code",
      "execution_count": null,
      "metadata": {
        "id": "8Q_QMJXqSKQv"
      },
      "outputs": [],
      "source": []
    },
    {
      "cell_type": "markdown",
      "source": [
        "Task 1: Try 3 different prompts to generate a factorial function.\n",
        "\n",
        "prompt1:Write a python program to find the factorial of the given number"
      ],
      "metadata": {
        "id": "6udWmsa9SLAj"
      }
    },
    {
      "cell_type": "code",
      "source": [
        "def factorial(n):\n",
        "  \"\"\"Calculates the factorial of a non-negative integer.\n",
        "\n",
        "  Args:\n",
        "    n: The non-negative integer.\n",
        "\n",
        "  Returns:\n",
        "    The factorial of n.\n",
        "  \"\"\"\n",
        "  if n == 0:\n",
        "    return 1\n",
        "  else:\n",
        "    return n * factorial(n-1)\n",
        "\n",
        "# Example usage\n",
        "num = 5\n",
        "result = factorial(num)\n",
        "print(f\"The factorial of {num} is {result}\")"
      ],
      "metadata": {
        "id": "YlP-2Wm6UE0d"
      },
      "execution_count": null,
      "outputs": []
    },
    {
      "cell_type": "code",
      "source": [],
      "metadata": {
        "id": "1DlgfSrpUZjO"
      },
      "execution_count": null,
      "outputs": []
    },
    {
      "cell_type": "markdown",
      "source": [
        "PROMPT2:Python code for finding factorial of number\n"
      ],
      "metadata": {
        "id": "b9Cx1fMQUaXX"
      }
    },
    {
      "cell_type": "code",
      "source": [
        "def factorial(n):\n",
        "  \"\"\"Calculates the factorial of a non-negative integer.\n",
        "\n",
        "  Args:\n",
        "    n: The non-negative integer.\n",
        "\n",
        "  Returns:\n",
        "    The factorial of n.\n",
        "  \"\"\"\n",
        "  if n == 0:\n",
        "    return 1\n",
        "  else:\n",
        "    return n * factorial(n-1)\n",
        "\n",
        "# Example usage\n",
        "num = 5\n",
        "result = factorial(num)\n",
        "print(f\"The factorial of {num} is {result}\")"
      ],
      "metadata": {
        "id": "PeoqpYaAUl4v"
      },
      "execution_count": null,
      "outputs": []
    },
    {
      "cell_type": "markdown",
      "source": [
        "PROMPT3:Factorial python code"
      ],
      "metadata": {
        "id": "dxFVdmk2UyjX"
      }
    },
    {
      "cell_type": "code",
      "source": [
        "def factorial(n):\n",
        "  \"\"\"Calculates the factorial of a non-negative integer.\"\"\"\n",
        "  if n == 0:\n",
        "    return 1\n",
        "  else:\n",
        "    return n * factorial(n-1)\n",
        "\n",
        "# Example usage\n",
        "num = 5\n",
        "result = factorial(num)\n",
        "print(f\"The factorial of {num} is {result}\")"
      ],
      "metadata": {
        "id": "lCIQt4awUz4-"
      },
      "execution_count": null,
      "outputs": []
    },
    {
      "cell_type": "markdown",
      "source": [
        "EXPLANATION: This code defines a function called factorial that calculates the factorial of a non-negative integer using recursion.\n",
        "\n",
        "Here's a breakdown:\n",
        "\n",
        "def factorial(n):: This line defines the function named factorial that takes one argument n. Docstring: The triple-quoted string explains what the function does, its arguments (Args), and what it returns (Returns). if n == 0:: This is the base case of the recursion. The factorial of 0 is 1, so if n is 0, the function returns 1. else:: This is the recursive step. If n is not 0, the function returns n multiplied by the factorial of n-1. This calls the function itself with a smaller value of n, moving closer to the base case. num = 5: This line assigns the value 5 to the variable num. result = factorial(num): This line calls the factorial function with num (which is 5) and stores the returned value (the factorial of 5) in the result variable. print(f\"The factorial of {num} is {result}\"): This line prints the result in a formatted string\n",
        "\n",
        "\n"
      ],
      "metadata": {
        "id": "x-9kYDF9W53A"
      }
    },
    {
      "cell_type": "markdown",
      "source": [
        "Task2: Provide a clear example input-output prompt to generate a sorting function.\n",
        "\n",
        "PROMPT: Write a Python function that sorts a list of numbers in ascending order.\n",
        "\n",
        "Input: [3, 1, 4, 1, 5, 9, 2, 6] Output: [1, 1, 2, 3, 4, 5, 6, 9]"
      ],
      "metadata": {
        "id": "76udR9rOVAux"
      }
    },
    {
      "cell_type": "code",
      "source": [
        "def sort_list_ascending(input_list):\n",
        "  \"\"\"Sorts a list of numbers in ascending order.\n",
        "\n",
        "  Args:\n",
        "    input_list: A list of numbers.\n",
        "\n",
        "  Returns:\n",
        "    A new list with the numbers sorted in ascending order.\n",
        "  \"\"\"\n",
        "  return sorted(input_list)\n",
        "\n",
        "# Example usage\n",
        "input_list = [3, 1, 4, 1, 5, 9, 2, 6]\n",
        "output_list = sort_list_ascending(input_list)\n",
        "print(f\"Input: {input_list}\")\n",
        "print(f\"Output: {output_list}\")"
      ],
      "metadata": {
        "id": "7j_lC_1WVB5r"
      },
      "execution_count": null,
      "outputs": []
    },
    {
      "cell_type": "markdown",
      "source": [
        "Explanation:\n",
        "\n",
        "This code defines a Python function sort_list_ascending that takes a list of numbers as input and returns a new list with the numbers sorted in ascending order.\n",
        "\n",
        "Here's a breakdown:\n",
        "\n",
        "def sort_list_ascending(input_list):: This line defines the function named sort_list_ascending that accepts one argument, input_list. Docstring: The triple-quoted string explains the purpose of the function, its arguments (Args), and what it returns (Returns). return sorted(input_list): This is the core of the function. It uses the built-in Python function sorted() to create a new sorted list from the input_list and returns this new list. The sorted() function by default sorts in ascending order.\n",
        "\n",
        "Example usage: This is a comment indicating the start of the example usage of the function.\n",
        "input_list = [3, 1, 4, 1, 5, 9, 2, 6]: This line creates a list of numbers and assigns it to the variable input_list. output_list = sort_list_ascending(input_list): This line calls the sort_list_ascending function with the input_list and stores the returned sorted list in the output_list variable. print(f\"Input: {input_list}\"): This line prints the original input list. print(f\"Output: {output_list}\"): This line prints the sorted output list."
      ],
      "metadata": {
        "id": "GC_qD7NqVGhy"
      }
    },
    {
      "cell_type": "markdown",
      "source": [
        "Task 3:Start with the vague prompt “Generate python code to calculate power bill” and improve it step-by-step\n",
        "\n"
      ],
      "metadata": {
        "id": "ut2cLo3SVaTW"
      }
    },
    {
      "cell_type": "code",
      "source": [
        "import random\n",
        "\n",
        "def calculate_power_bill_random():\n",
        "  \"\"\"Calculates a power bill using random consumption and a basic rate.\"\"\"\n",
        "  # Generate a random electricity consumption value (e.g., between 50 and 500 kWh)\n",
        "  consumption = random.uniform(50, 500)\n",
        "  # Define a basic rate per kWh (e.g., $0.15)\n",
        "  rate_per_kwh = 0.15\n",
        "\n",
        "  # Calculate the bill\n",
        "  bill_amount = consumption * rate_per_kwh\n",
        "\n",
        "  return consumption, bill_amount\n",
        "\n",
        "# Calculate the bill with random values\n",
        "consumption, bill = calculate_power_bill_random()\n",
        "\n",
        "print(f\"Electricity Consumption: {consumption:.2f} kWh\")\n",
        "print(f\"Basic Rate per kWh: $0.15\")\n",
        "print(f\"Estimated Power Bill: ${bill:.2f}\")\n",
        ""
      ],
      "metadata": {
        "id": "yi3hYroeVSC8"
      },
      "execution_count": null,
      "outputs": []
    },
    {
      "cell_type": "markdown",
      "source": [
        "EXPLANATION: This code calculates a basic power bill using a randomly generated electricity consumption and a fixed rate.\n",
        "\n",
        "Here's a breakdown:\n",
        "\n",
        "import random: This line imports the random module, which is needed to generate random numbers. def calculate_power_bill_random():: This defines a function named calculate_power_bill_random. Docstring: Explains what the function does. consumption = random.uniform(50, 500): This line generates a random floating-point number between 50 and 500 (inclusive) and assigns it to the consumption variable. This simulates a random electricity consumption in kWh. rate_per_kwh = 0.15: This line defines a fixed basic rate of $0.15 per kWh. bill_amount = consumption * rate_per_kwh: This calculates the bill amount by multiplying the consumption by the rate. return consumption, bill_amount: The function returns both the generated consumption and the calculated bill amount. consumption, bill = calculate_power_bill_random(): This line calls the function and unpacks the returned consumption and bill amount into respective variables. print(...): These lines print the calculated electricity consumption, the basic rate, and the estimated power bill, formatted to two decimal places.\n",
        "\n"
      ],
      "metadata": {
        "id": "s8FWfcAzVpQh"
      }
    },
    {
      "cell_type": "code",
      "source": [],
      "metadata": {
        "id": "t1rLYjxRVp__"
      },
      "execution_count": null,
      "outputs": []
    },
    {
      "cell_type": "markdown",
      "source": [
        "TASK4:Write structured comments to help AI generate two linked functions (e.g., login_user() and register_user())."
      ],
      "metadata": {
        "id": "qamW7bnOVt84"
      }
    },
    {
      "cell_type": "code",
      "source": [
        "# Simple dictionary to simulate user data storage\n",
        "# In a real application, this would be a database or other secure storage\n",
        "user_data = {}\n",
        "\n",
        "def register_user(username, password):\n",
        "  \"\"\"Registers a new user.\n",
        "\n",
        "  Args:\n",
        "    username: The desired username.\n",
        "    password: The desired password.\n",
        "\n",
        "  Returns:\n",
        "    True if registration is successful, False otherwise.\n",
        "  \"\"\"\n",
        "  if username in user_data:\n",
        "    print(f\"Username '{username}' already exists.\")\n",
        "    return False\n",
        "  else:\n",
        "    # In a real application, the password should be hashed and stored securely\n",
        "    user_data[username] = password\n",
        "    print(f\"User '{username}' registered successfully.\")\n",
        "    return True\n",
        "\n",
        "def login_user(username, password):\n",
        "  \"\"\"Logs in an existing user.\n",
        "\n",
        "  Args:\n",
        "    username: The username.\n",
        "    password: The password.\n",
        "\n",
        "  Returns:\n",
        "    True if login is successful, False otherwise.\n",
        "  \"\"\"\n",
        "  if username in user_data and user_data[username] == password:\n",
        "    print(f\"User '{username}' logged in successfully.\")\n",
        "    return True\n",
        "  else:\n",
        "    print(\"Invalid username or password.\")\n",
        "    return False\n",
        "\n",
        "# Example Usage:\n",
        "register_user(\"testuser\", \"password123\")\n",
        "login_user(\"testuser\", \"password123\")\n",
        "login_user(\"anotheruser\", \"fakepassword\")"
      ],
      "metadata": {
        "id": "yGNfm5V3VvFA"
      },
      "execution_count": null,
      "outputs": []
    },
    {
      "cell_type": "markdown",
      "source": [
        "Explanation:\n",
        "\n",
        "This code provides a simple implementation of user registration and login functionality using a Python dictionary to store user data.\n",
        "\n",
        "Here's a breakdown:\n",
        "\n",
        "user_data = {}: This initializes an empty dictionary named user_data. This dictionary is used to store usernames as keys and their corresponding passwords as values. The comments emphasize that this is a simplified approach for demonstration and a real application would use a more secure storage method like a database with hashed passwords. def register_user(username, password):: This defines the register_user function which takes username and password as input. The docstring explains the purpose, arguments, and return value of the function. if username in user_data:: This checks if the provided username already exists as a key in the user_data dictionary. If the username exists, it prints a message and returns False to indicate that registration failed. else:: If the username does not exist, it proceeds with registration. user_data[username] = password: This line adds the new username and password as a key-value pair to the user_data dictionary. The comment again highlights the need for secure password handling in a real application. It prints a success message and returns True. def login_user(username, password):: This defines the login_user function which also takes username and password as input. The docstring explains the purpose, arguments, and return value. if username in user_data and user_data[username] == password:: This checks two conditions: if the username exists in user_data AND if the provided password matches the password stored for that username in the dictionary. If both conditions are true, it prints a success message and returns True to indicate successful login. else:: If either condition is false, it prints an \"Invalid username or password\" message and returns False.\n",
        "\n",
        "Example Usage:: This section shows how to use the defined functions with example calls to register_user and login_user to demonstrate their functionality."
      ],
      "metadata": {
        "id": "CvnZHN3vWQjs"
      }
    },
    {
      "cell_type": "code",
      "source": [],
      "metadata": {
        "id": "Mzb3bAZvWgvM"
      },
      "execution_count": null,
      "outputs": []
    },
    {
      "cell_type": "markdown",
      "source": [
        "TASK5:Analyzing Prompt Specificity: Improving Temperature Conversion Function with Clear Instructions\n",
        "\n",
        "PROMPT:Write a python function of temperature conversion"
      ],
      "metadata": {
        "id": "_tKom64kWkf_"
      }
    },
    {
      "cell_type": "code",
      "source": [
        "def celsius_to_fahrenheit(celsius):\n",
        "  \"\"\"Converts Celsius to Fahrenheit.\"\"\"\n",
        "  return (celsius * 9/5) + 32\n",
        "\n",
        "def fahrenheit_to_celsius(fahrenheit):\n",
        "  \"\"\"Converts Fahrenheit to Celsius.\"\"\"\n",
        "  return (fahrenheit - 32) * 5/9\n",
        "\n",
        "def celsius_to_kelvin(celsius):\n",
        "  \"\"\"Converts Celsius to Kelvin.\"\"\"\n",
        "  return celsius + 273.15\n",
        "\n",
        "def kelvin_to_celsius(kelvin):\n",
        "  \"\"\"Converts Kelvin to Celsius.\"\"\"\n",
        "  return kelvin - 273.15\n",
        "\n",
        "def fahrenheit_to_kelvin(fahrenheit):\n",
        "  \"\"\"Converts Fahrenheit to Kelvin.\"\"\"\n",
        "  celsius = fahrenheit_to_celsius(fahrenheit)\n",
        "  return celsius_to_kelvin(celsius)\n",
        "\n",
        "def kelvin_to_fahrenheit(kelvin):\n",
        "  \"\"\"Converts Kelvin to Fahrenheit.\"\"\"\n",
        "  celsius = kelvin_to_celsius(kelvin)\n",
        "  return celsius_to_fahrenheit(celsius)\n",
        "\n",
        "# Example usage:\n",
        "celsius_temp = 25\n",
        "fahrenheit_temp = celsius_to_fahrenheit(celsius_temp)\n",
        "print(f\"{celsius_temp}°C is {fahrenheit_temp:.2f}°F\")\n",
        "\n",
        "fahrenheit_temp = 77\n",
        "celsius_temp = fahrenheit_to_celsius(fahrenheit_temp)\n",
        "print(f\"{fahrenheit_temp}°F is {celsius_temp:.2f}°C\")\n",
        "\n",
        "celsius_temp = 0\n",
        "kelvin_temp = celsius_to_kelvin(celsius_temp)\n",
        "print(f\"{celsius_temp}°C is {kelvin_temp:.2f}K\")\n",
        ""
      ],
      "metadata": {
        "id": "cCpJXSdXWlak"
      },
      "execution_count": null,
      "outputs": []
    },
    {
      "cell_type": "markdown",
      "source": [
        "Explanation:\n",
        "\n",
        "This code defines several Python functions for converting temperatures between Celsius, Fahrenheit, and Kelvin.\n",
        "\n",
        "Here's a breakdown of each function:\n",
        "\n",
        "celsius_to_fahrenheit(celsius): Converts a temperature from Celsius to Fahrenheit using the formula (Celsius * 9/5) + 32. fahrenheit_to_celsius(fahrenheit): Converts a temperature from Fahrenheit to Celsius using the formula (Fahrenheit - 32) * 5/9. celsius_to_kelvin(celsius): Converts a temperature from Celsius to Kelvin by adding 273.15. kelvin_to_celsius(kelvin): Converts a temperature from Kelvin to Celsius by subtracting 273.15. fahrenheit_to_kelvin(fahrenheit): Converts Fahrenheit to Kelvin by first converting Fahrenheit to Celsius using fahrenheit_to_celsius() and then converting the resulting Celsius temperature to Kelvin using celsius_to_kelvin(). kelvin_to_fahrenheit(kelvin): Converts Kelvin to Fahrenheit by first converting Kelvin to Celsius using kelvin_to_celsius() and then converting the resulting Celsius temperature to Fahrenheit using celsius_to_fahrenheit().\n",
        "\n"
      ],
      "metadata": {
        "id": "MT3eNwnCWvOw"
      }
    },
    {
      "cell_type": "code",
      "source": [],
      "metadata": {
        "id": "VSlWtvnTWzGS"
      },
      "execution_count": null,
      "outputs": []
    }
  ]
}