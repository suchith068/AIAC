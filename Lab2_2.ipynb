{
  "nbformat": 4,
  "nbformat_minor": 0,
  "metadata": {
    "colab": {
      "provenance": [],
      "authorship_tag": "ABX9TyNgmAw2VTYRmuYk4ExAe2ws",
      "include_colab_link": true
    },
    "kernelspec": {
      "name": "python3",
      "display_name": "Python 3"
    },
    "language_info": {
      "name": "python"
    }
  },
  "cells": [
    {
      "cell_type": "markdown",
      "metadata": {
        "id": "view-in-github",
        "colab_type": "text"
      },
      "source": [
        "<a href=\"https://colab.research.google.com/github/suchith068/AIAC/blob/main/Lab2_2.ipynb\" target=\"_parent\"><img src=\"https://colab.research.google.com/assets/colab-badge.svg\" alt=\"Open In Colab\"/></a>"
      ]
    },
    {
      "cell_type": "code",
      "execution_count": null,
      "metadata": {
        "id": "q9eJYe6k6SVL"
      },
      "outputs": [],
      "source": []
    },
    {
      "cell_type": "markdown",
      "source": [
        "Task 0\n",
        "write a python program to check whether given number is prime or not"
      ],
      "metadata": {
        "id": "0XSc_HY86ZFI"
      }
    },
    {
      "cell_type": "code",
      "metadata": {
        "id": "ad1cb3c9"
      },
      "source": [
        "def is_prime(num):\n",
        "    \"\"\"Checks if a number is prime.\"\"\"\n",
        "    if num <= 1:\n",
        "        return False\n",
        "    for i in range(2, int(num**0.5) + 1):\n",
        "        if num % i == 0:\n",
        "            return False\n",
        "    return True\n",
        "\n",
        "# Example usage:\n",
        "number_to_check = 17\n",
        "if is_prime(number_to_check):\n",
        "    print(f\"{number_to_check} is a prime number.\")\n",
        "else:\n",
        "    print(f\"{number_to_check} is not a prime number.\")\n",
        "\n",
        "number_to_check = 10\n",
        "if is_prime(number_to_check):\n",
        "    print(f\"{number_to_check} is a prime number.\")\n",
        "else:\n",
        "    print(f\"{number_to_check} is not a prime number.\")"
      ],
      "execution_count": null,
      "outputs": []
    },
    {
      "cell_type": "markdown",
      "source": [],
      "metadata": {
        "id": "eAkcV3KK8Fl4"
      }
    },
    {
      "cell_type": "markdown",
      "source": [
        "def is_prime(num):: This line defines a function named is_prime that takes one argument, num.\n",
        "if num <= 1:: This checks if the input number num is less than or equal to 1. Prime numbers are greater than 1, so if this condition is true, the function returns False.\n",
        "`for i in range(2, int(num0.5) + 1):**: This loop iterates through numbers starting from 2 up to the square root ofnum` (inclusive). We only need to check for divisors up to the square root because if a number has a divisor greater than its square root, it must also have a divisor less than its square root.\n",
        "if num % i == 0:: Inside the loop, this line checks if num is divisible by the current number i (with no remainder). If it is, it means num has a divisor other than 1 and itself, so it's not prime, and the function returns False.\n",
        "return True: If the loop finishes without finding any divisors, it means the number is only divisible by 1 and itself, so it's a prime number, and the function returns True.\n",
        "The code then demonstrates how to use the is_prime function with two examples: checking if 17 and 10 are prime numbers and printing the results.\n"
      ],
      "metadata": {
        "id": "KUyuql6c9VGI"
      }
    },
    {
      "cell_type": "markdown",
      "source": [
        "Task 1\n",
        "Use Gemini in Colab to write a function that filters out all negative numbers from a given list.\n",
        "prompt"
      ],
      "metadata": {
        "id": "Gt29IMQe_COb"
      }
    },
    {
      "cell_type": "code",
      "source": [],
      "metadata": {
        "id": "DZn59oRN9UcQ"
      },
      "execution_count": null,
      "outputs": []
    },
    {
      "cell_type": "code",
      "metadata": {
        "id": "7089b479"
      },
      "source": [
        "import google.generativeai as genai\n",
        "from google.colab import userdata\n",
        "\n",
        "# Configure the Gemini API (replace with your actual API key or use Colab secrets)\n",
        "# GOOGLE_API_KEY=userdata.get('GOOGLE_API_KEY') # Uncomment and replace with your actual API key or use Colab secrets\n",
        "# genai.configure(api_key=GOOGLE_API_KEY) # Uncomment and replace with your actual API key or use Colab secrets\n",
        "\n",
        "def filter_negative_numbers(input_list):\n",
        "    \"\"\"\n",
        "    Filters out negative numbers from a given list using Gemini (if configured).\n",
        "\n",
        "    Args:\n",
        "        input_list: The list of numbers to filter.\n",
        "\n",
        "    Returns:\n",
        "        A new list containing only the non-negative numbers.\n",
        "    \"\"\"\n",
        "    # If Gemini is configured, you could potentially use it here for more complex filtering or analysis\n",
        "    # For this specific task, a simple list comprehension is efficient and doesn't strictly require Gemini\n",
        "    return [num for num in input_list if num >= 0]\n",
        "\n",
        "# Example usage:\n",
        "my_list = [1, -2, 3, -4, 5, 0, -6]\n",
        "filtered_list = filter_negative_numbers(my_list)\n",
        "print(f\"Original list: {my_list}\")\n",
        "print(f\"Filtered list (non-negative numbers): {filtered_list}\")"
      ],
      "execution_count": null,
      "outputs": []
    },
    {
      "cell_type": "markdown",
      "source": [],
      "metadata": {
        "id": "ZCMiLIwd_YYt"
      }
    },
    {
      "cell_type": "markdown",
      "source": [
        "Here's a breakdown of the code:\n",
        "\n",
        "import google.generativeai as genai and from google.colab import userdata: These lines import the necessary libraries for potentially using the Gemini API and accessing user data in Google Colab. Although the current implementation doesn't directly use the Gemini API for the filtering itself, the imports are included as the prompt mentioned using Gemini.\n",
        "def filter_negative_numbers(input_list):: This defines the function filter_negative_numbers that accepts one argument, input_list, which is expected to be a list of numbers.\n",
        "\"\"\" ... \"\"\": This is a docstring that explains what the function does, its arguments, and what it returns.\n",
        "return [num for num in input_list if num >= 0]: This is a list comprehension, which is a concise way to create lists in Python. It works as follows:\n",
        "It iterates through each element (num) in the input_list.\n",
        "For each num, it checks if the condition num >= 0 is true (i.e., if the number is non-negative).\n",
        "If the condition is true, the num is included in the new list being created.\n",
        "Finally, the function returns this newly created list containing only the non-negative numbers.\n",
        "The code also includes an example usage:\n",
        "\n",
        "my_list = [1, -2, 3, -4, 5, 0, -6]: This creates a sample list with both positive and negative numbers.\n",
        "filtered_list = filter_negative_numbers(my_list): This calls the filter_negative_numbers function with my_list and stores the returned filtered list in the filtered_list variable.\n",
        "print(f\"Original list: {my_list}\") and print(f\"Filtered list (non-negative numbers): {filtered_list}\"): These lines print the original list and the filtered list to the console so you can see the result.\n"
      ],
      "metadata": {
        "id": "ErdVqewL_rwp"
      }
    },
    {
      "cell_type": "markdown",
      "source": [
        "Task 2 :\n",
        " Ask Gemini to generate code that reads a text file and counts the frequency of each word. Then ask it to explain the code\n",
        " prompt:\n",
        "\n"
      ],
      "metadata": {
        "id": "vG628Urr_xGM"
      }
    },
    {
      "cell_type": "code",
      "metadata": {
        "id": "faacd81f"
      },
      "source": [
        "import re\n",
        "from collections import Counter\n",
        "\n",
        "def count_word_frequency(filepath):\n",
        "    \"\"\"\n",
        "    Reads a text file and counts the frequency of each word.\n",
        "\n",
        "    Args:\n",
        "        filepath (str): The path to the text file.\n",
        "\n",
        "    Returns:\n",
        "        dict: A dictionary where keys are words and values are their frequencies.\n",
        "    \"\"\"\n",
        "    word_counts = Counter()\n",
        "    try:\n",
        "        with open(filepath, 'r', encoding='utf-8') as f:\n",
        "            for line in f:\n",
        "                # Remove punctuation and convert to lowercase\n",
        "                words = re.findall(r'\\b\\w+\\b', line.lower())\n",
        "                word_counts.update(words)\n",
        "        return dict(word_counts)\n",
        "    except FileNotFoundError:\n",
        "        return f\"Error: File not found at {filepath}\"\n",
        "    except Exception as e:\n",
        "        return f\"An error occurred: {e}\"\n",
        "\n",
        "# Example usage (you'll need to create a text file named 'sample.txt' in the same directory)\n",
        "# file_path = 'sample.txt'\n",
        "# frequency = count_word_frequency(file_path)\n",
        "# print(frequency)"
      ],
      "execution_count": 1,
      "outputs": []
    },
    {
      "cell_type": "markdown",
      "source": [
        "explanation: Certainly! The selected code defines a Python function count_word_frequency that reads a text file and counts the frequency of each word.\n",
        "\n",
        "Here's a breakdown of the code:\n",
        "\n",
        "import re: Imports the re module, which provides regular expression operations for tasks like finding patterns in text.\n",
        "from collections import Counter: Imports the Counter class from the collections module. Counter is a specialized dictionary subclass for counting hashable objects.\n",
        "def count_word_frequency(filepath):: Defines the function count_word_frequency that takes one argument, filepath, which is the path to the text file.\n",
        "word_counts = Counter(): Initializes an empty Counter object called word_counts. This will store the words and their frequencies.\n",
        "try...except block: This block handles potential errors that might occur during file processing, such as the file not being found (FileNotFoundError) or other exceptions.\n",
        "with open(filepath, 'r', encoding='utf-8') as f:: Opens the specified file in read mode ('r') with UTF-8 encoding. The with statement ensures the file is automatically closed even if errors occur.\n",
        "for line in f:: Iterates through each line in the opened file.\n",
        "words = re.findall(r'\\b\\w+\\b', line.lower()):\n",
        "line.lower(): Converts the current line to lowercase to ensure that words like \"The\" and \"the\" are counted as the same word.\n",
        "re.findall(r'\\b\\w+\\b', ...): Uses a regular expression to find all word boundaries (\\b) followed by one or more word characters (\\w+) and another word boundary. This effectively extracts individual words from the line.\n",
        "word_counts.update(words): Updates the word_counts Counter with the list of words found in the current line. If a word already exists in the Counter, its count is incremented; otherwise, the word is added with a count of 1.\n",
        "return dict(word_counts): After processing all lines, the function converts the word_counts Counter object to a regular dictionary and returns it.\n",
        "Error Handling: The except blocks catch FileNotFoundError and other potential exceptions, returning an informative error message if one occurs.\n",
        "Example Usage: The commented-out example shows how you would typically use the function by specifying a file path and printing the resulting frequency dictionary.\n",
        "To use this code, you would need to create a text file (e.g., sample.txt) in the same directory as your notebook and then uncomment and run the example usage lines with the correct file path.\n",
        "\n",
        "\n"
      ],
      "metadata": {
        "id": "d9OjNHVYA07c"
      }
    },
    {
      "cell_type": "markdown",
      "source": [],
      "metadata": {
        "id": "Mg_zpUXxBDXo"
      }
    },
    {
      "cell_type": "markdown",
      "source": [
        "Task 3 :\n",
        "Ask Gemini to explain a Python function (to calculate area of various shapes) line by line\n"
      ],
      "metadata": {
        "id": "gOQ-WtcDBE9S"
      }
    },
    {
      "cell_type": "code",
      "metadata": {
        "id": "8129087e"
      },
      "source": [
        "import math\n",
        "\n",
        "def calculate_area(shape, **kwargs):\n",
        "    \"\"\"\n",
        "    Calculates the area of various shapes.\n",
        "\n",
        "    Args:\n",
        "        shape (str): The type of shape (e.g., 'circle', 'square', 'triangle').\n",
        "        **kwargs: Keyword arguments for the shape's dimensions (e.g., radius, side, base, height).\n",
        "\n",
        "    Returns:\n",
        "        float or str: The calculated area or an error message.\n",
        "    \"\"\"\n",
        "    if shape.lower() == 'circle':\n",
        "        # Requires 'radius'\n",
        "        radius = kwargs.get('radius')\n",
        "        if radius is not None and radius >= 0:\n",
        "            return math.pi * radius**2\n",
        "        else:\n",
        "            return \"Error: Circle requires a non-negative 'radius'.\"\n",
        "    elif shape.lower() == 'square':\n",
        "        # Requires 'side'\n",
        "        side = kwargs.get('side')\n",
        "        if side is not None and side >= 0:\n",
        "            return side**2\n",
        "        else:\n",
        "            return \"Error: Square requires a non-negative 'side'.\"\n",
        "    elif shape.lower() == 'triangle':\n",
        "        # Requires 'base' and 'height'\n",
        "        base = kwargs.get('base')\n",
        "        height = kwargs.get('height')\n",
        "        if base is not None and height is not None and base >= 0 and height >= 0:\n",
        "            return 0.5 * base * height\n",
        "        else:\n",
        "            return \"Error: Triangle requires non-negative 'base' and 'height'.\"\n",
        "    elif shape.lower() == 'rectangle':\n",
        "        # Requires 'length' and 'width'\n",
        "        length = kwargs.get('length')\n",
        "        width = kwargs.get('width')\n",
        "        if length is not None and width is not None and length >= 0 and width >= 0:\n",
        "            return length * width\n",
        "        else:\n",
        "            return \"Error: Rectangle requires non-negative 'length' and 'width'.\"\n",
        "    else:\n",
        "        return f\"Error: Unsupported shape '{shape}'.\"\n",
        "\n",
        "# Example usage:\n",
        "# print(calculate_area('circle', radius=5))\n",
        "# print(calculate_area('square', side=4))\n",
        "# print(calculate_area('triangle', base=6, height=3))\n",
        "# print(calculate_area('rectangle', length=5, width=8))\n",
        "# print(calculate_area('circle', radius=-2))\n",
        "# print(calculate_area('square'))\n",
        "# print(calculate_area('pentagon', side=5))"
      ],
      "execution_count": null,
      "outputs": []
    },
    {
      "cell_type": "markdown",
      "source": [
        "Explanation:\n",
        "Certainly! Here is a line-by-line explanation of the selected Python function calculate_area:\n",
        "\n",
        "import math: This line imports the math module, which provides mathematical functions and constants, including math.pi which is used for calculating the area of a circle.\n",
        "def calculate_area(shape, **kwargs):: This defines a function named calculate_area that takes two arguments:\n",
        "shape: A string representing the type of shape (e.g., 'circle', 'square').\n",
        "**kwargs: This is a special syntax that allows the function to accept an arbitrary number of keyword arguments. These arguments will be used to provide the dimensions of the shape (like radius, side, base, height, length, width).\n",
        "\"\"\" ... \"\"\": This is a docstring that explains what the function does, its arguments, and what it returns.\n",
        "if shape.lower() == 'circle':: This checks if the input shape, converted to lowercase, is equal to 'circle'.\n",
        "radius = kwargs.get('radius'): If the shape is 'circle', this line tries to get the value associated with the keyword argument 'radius' from the **kwargs dictionary. If 'radius' is not provided, it returns None.\n",
        "if radius is not None and radius >= 0:: This checks if a 'radius' was provided (radius is not None) and if it's a non-negative value (radius >= 0).\n",
        "`return math.pi * radius2`**: If the radius is valid, this calculates the area of the circle using the formula π * radius² and returns the result.\n",
        "else:: If the radius is not valid (either not provided or negative).\n",
        "return \"Error: Circle requires a non-negative 'radius'.\": This returns an error message indicating that a non-negative radius is required for a circle.\n",
        "elif shape.lower() == 'square':: This checks if the shape is 'square'.\n",
        "side = kwargs.get('side'): If the shape is 'square', this gets the value of the 'side' keyword argument.\n",
        "if side is not None and side >= 0:: This checks if a non-negative 'side' was provided.\n",
        "`return side2`**: If the side is valid, this calculates the area of the square (side²) and returns the result.\n",
        "else:: If the side is not valid.\n",
        "return \"Error: Square requires a non-negative 'side'.\": This returns an error message for an invalid side.\n",
        "elif shape.lower() == 'triangle':: This checks if the shape is 'triangle'.\n",
        "base = kwargs.get('base'): If the shape is 'triangle', this gets the value of the 'base' keyword argument.\n",
        "height = kwargs.get('height'): If the shape is 'triangle', this gets the value of the 'height' keyword argument.\n",
        "if base is not None and height is not None and base >= 0 and height >= 0:: This checks if both 'base' and 'height' were provided and are non-negative.\n",
        "return 0.5 * base * height: If the base and height are valid, this calculates the area of the triangle (0.5 * base * height) and returns the result.\n",
        "else:: If either base or height is not valid.\n",
        "return \"Error: Triangle requires non-negative 'base' and 'height'.\": This returns an error message for invalid base or height.\n",
        "elif shape.lower() == 'rectangle':: This checks if the shape is 'rectangle'.\n",
        "length = kwargs.get('length'): If the shape is 'rectangle', this gets the value of the 'length' keyword argument.\n",
        "width = kwargs.get('width'): If the shape is 'rectangle', this gets the value of the 'width' keyword argument.\n",
        "if length is not None and width is not None and length >= 0 and width >= 0:: This checks if both 'length' and 'width' were provided and are non-negative.\n",
        "return length * width: If the length and width are valid, this calculates the area of the rectangle (length * width) and returns the result.\n",
        "else:: If either length or width is not valid.\n",
        "return \"Error: Rectangle requires non-negative 'length' and 'width'.\": This returns an error message for invalid length or width.\n",
        "else:: If the provided shape does not match any of the supported shapes ('circle', 'square', 'triangle', 'rectangle').\n",
        "return f\"Error: Unsupported shape '{shape}'.\": This returns an error message indicating that the provided shape is not supported.\n",
        "The commented-out lines at the end show examples of how to call the calculate_area function with different shapes and dimensions.\n",
        "\n"
      ],
      "metadata": {
        "id": "27UtAz9NGo7K"
      }
    },
    {
      "cell_type": "markdown",
      "source": [
        "Task 4:\n",
        "Install and configure Cursor AI. Use it to generate a Python function (e.g., sum of squares)\n",
        "prompt:\n"
      ],
      "metadata": {
        "id": "GQb-BEdDHID2"
      }
    },
    {
      "cell_type": "code",
      "metadata": {
        "id": "40242c7f"
      },
      "source": [
        "def sum_of_squares(numbers):\n",
        "  \"\"\"\n",
        "  Calculates the sum of squares of a list of numbers.\n",
        "\n",
        "  Args:\n",
        "    numbers: A list of numbers.\n",
        "\n",
        "  Returns:\n",
        "    The sum of the squares of the numbers in the list.\n",
        "  \"\"\"\n",
        "  return sum(x**2 for x in numbers)\n",
        "\n",
        "# Example usage:\n",
        "my_numbers = [1, 2, 3, 4, 5]\n",
        "result = sum_of_squares(my_numbers)\n",
        "print(f\"The sum of squares of {my_numbers} is: {result}\")\n",
        "\n",
        "my_numbers_2 = [-1, 0, 2]\n",
        "result_2 = sum_of_squares(my_numbers_2)\n",
        "print(f\"The sum of squares of {my_numbers_2} is: {result_2}\")"
      ],
      "execution_count": null,
      "outputs": []
    },
    {
      "cell_type": "markdown",
      "source": [
        "Explanation:\n",
        "Certainly! The selected code defines a Python function called sum_of_squares that calculates the sum of the squares of numbers in a given list.\n",
        "\n",
        "Here's a breakdown of the code:\n",
        "\n",
        "def sum_of_squares(numbers):: This line defines a function named sum_of_squares that takes one argument, numbers, which is expected to be a list of numbers.\n",
        "\"\"\" ... \"\"\": This is a docstring that explains what the function does, its arguments, and what it returns.\n",
        "`return sum(x2 for x in numbers)**: This is the core of the function. It uses a generator expression within thesum()` function:\n",
        "x**2 for x in numbers: This part iterates through each element (x) in the input numbers list and calculates the square of each element (x**2).\n",
        "sum(...): The sum() function then takes the sequence of squared numbers generated by the expression and calculates their sum.\n",
        "The function then returns this calculated sum.\n",
        "\n",
        "The code also includes example usage:\n",
        "\n",
        "my_numbers = [1, 2, 3, 4, 5]: This creates a sample list of numbers.\n",
        "result = sum_of_squares(my_numbers): This calls the sum_of_squares function with my_numbers and stores the returned sum in the result variable.\n",
        "print(f\"The sum of squares of {my_numbers} is: {result}\"): This line prints the original list and the calculated sum of squares.\n",
        "my_numbers_2 = [-1, 0, 2]: This creates another sample list.\n",
        "result_2 = sum_of_squares(my_numbers_2): This calls the function with the second list.\n",
        "print(f\"The sum of squares of {my_numbers_2} is: {result_2}\"): This line prints the second list and its sum of squares.\n",
        "\n"
      ],
      "metadata": {
        "id": "6XONr7C2HZ0z"
      }
    },
    {
      "cell_type": "code",
      "source": [],
      "metadata": {
        "id": "XFxC4w46Hdf9"
      },
      "execution_count": null,
      "outputs": []
    },
    {
      "cell_type": "markdown",
      "source": [
        "Task 5:\n",
        "Use both Gemini and Cursor AI to generate code for sorting a list of dictionaries by a specific key (e.g., age).\n",
        "\n",
        "prompt:\n"
      ],
      "metadata": {
        "id": "fA5YloVXHn3o"
      }
    },
    {
      "cell_type": "code",
      "metadata": {
        "id": "1631aaf6"
      },
      "source": [
        "def sort_list_of_dicts(list_of_dicts, key_to_sort_by):\n",
        "  \"\"\"\n",
        "  Sorts a list of dictionaries by the value of a specified key.\n",
        "\n",
        "  Args:\n",
        "    list_of_dicts: The list of dictionaries to sort.\n",
        "    key_to_sort_by: The key to use for sorting.\n",
        "\n",
        "  Returns:\n",
        "    A new list of dictionaries sorted by the specified key.\n",
        "  \"\"\"\n",
        "  # Use the sorted() function with a lambda function as the key\n",
        "  # The lambda function extracts the value of the specified key for each dictionary\n",
        "  return sorted(list_of_dicts, key=lambda x: x[key_to_sort_by])\n",
        "\n",
        "# Example usage:\n",
        "people = [\n",
        "    {'name': 'Alice', 'age': 30},\n",
        "    {'name': 'Bob', 'age': 25},\n",
        "    {'name': 'Charlie', 'age': 35},\n",
        "    {'name': 'David', 'age': 25}\n",
        "]\n",
        "\n",
        "# Sort by age\n",
        "sorted_by_age = sort_list_of_dicts(people, 'age')\n",
        "print(\"Sorted by age:\")\n",
        "print(sorted_by_age)\n",
        "\n",
        "# Sort by name (example of sorting by another key)\n",
        "sorted_by_name = sort_list_of_dicts(people, 'name')\n",
        "print(\"\\nSorted by name:\")\n",
        "print(sorted_by_name)"
      ],
      "execution_count": null,
      "outputs": []
    },
    {
      "cell_type": "markdown",
      "source": [
        "Explanation:\n",
        "\n",
        "Certainly! The selected code defines a Python function called sort_list_of_dicts that sorts a list of dictionaries based on the value of a specified key within each dictionary.\n",
        "\n",
        "Here's a breakdown of the code:\n",
        "\n",
        "def sort_list_of_dicts(list_of_dicts, key_to_sort_by):: This line defines a function named sort_list_of_dicts that takes two arguments:\n",
        "list_of_dicts: This is the list of dictionaries that you want to sort.\n",
        "key_to_sort_by: This is a string representing the key within each dictionary whose value will be used for sorting.\n",
        "\"\"\" ... \"\"\": This is a docstring that explains what the function does, its arguments, and what it returns.\n",
        "return sorted(list_of_dicts, key=lambda x: x[key_to_sort_by]): This is the core of the sorting logic.\n",
        "sorted(list_of_dicts, ...): This is a built-in Python function that returns a new sorted list from the items in an iterable (in this case, list_of_dicts).\n",
        "key=lambda x: x[key_to_sort_by]: This is the crucial part that tells the sorted() function how to determine the sorting order.\n",
        "lambda x:: This defines a small, anonymous function (a lambda function) that takes one argument, conventionally named x. In the context of sorted(), x will represent each individual dictionary in the list_of_dicts.\n",
        "x[key_to_sort_by]: This part of the lambda function accesses the value associated with the key_to_sort_by within the current dictionary x. The sorted() function will use these key values to compare and sort the dictionaries.\n",
        "The function returns the new list of dictionaries sorted based on the specified key.\n",
        "\n",
        "The code also includes example usage:\n",
        "\n",
        "people = [...]: This creates a sample list of dictionaries, where each dictionary represents a person with 'name' and 'age' keys.\n",
        "sorted_by_age = sort_list_of_dicts(people, 'age'): This calls the sort_list_of_dicts function to sort the people list by the 'age' key and stores the result in sorted_by_age.\n",
        "print(\"Sorted by age:\") and print(sorted_by_age): These lines print a label and the list sorted by age.\n",
        "sorted_by_name = sort_list_of_dicts(people, 'name'): This calls the function again to sort the people list by the 'name' key and stores the result in sorted_by_name.\n",
        "print(\"\\nSorted by name:\") and print(sorted_by_name): These lines print a label and the list sorted by name.\n"
      ],
      "metadata": {
        "id": "dAMouV4jIIoC"
      }
    },
    {
      "cell_type": "code",
      "source": [],
      "metadata": {
        "id": "QViteSjQIN-Y"
      },
      "execution_count": null,
      "outputs": []
    }
  ]
}